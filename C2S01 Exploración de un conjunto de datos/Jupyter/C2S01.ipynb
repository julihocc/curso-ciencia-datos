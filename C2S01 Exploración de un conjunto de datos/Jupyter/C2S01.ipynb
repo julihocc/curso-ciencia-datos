{
 "cells": [
  {
   "cell_type": "markdown",
   "source": [
    "# Exploración de conjuntos de datos con Pandas\n",
    "\n",
    "Pandas es una potente biblioteca de Python, imprescindible para cualquier científico de datos o analista, que permite la manipulación y análisis de datos de manera eficiente y fácil. Con Pandas, se pueden realizar tareas como la manipulación de datos, la limpieza de datos, el análisis exploratorio de datos y mucho más. En este artículo, exploraremos con mayor detalle cómo podemos explorar nuestros conjuntos de datos utilizando Pandas, explicando con profundidad y ejemplos prácticos sus funciones y características.\n",
    "\n",
    "## Cómo instalar Pandas\n",
    "\n",
    "Para poder usar Pandas, primero es necesario instalarlo. La instalación es un proceso sencillo que se puede hacer utilizando pip, el administrador de paquetes de Python. Aquí está el comando que se debe ejecutar en la terminal:\n",
    "\n",
    "```python\n",
    "pip install pandas\n",
    "```"
   ],
   "metadata": {
    "collapsed": false
   }
  },
  {
   "cell_type": "code",
   "execution_count": 4,
   "outputs": [
    {
     "name": "stdout",
     "output_type": "stream",
     "text": [
      "Requirement already satisfied: pandas in c:\\users\\julih\\anaconda3\\lib\\site-packages (1.4.4)\n",
      "Requirement already satisfied: pytz>=2020.1 in c:\\users\\julih\\anaconda3\\lib\\site-packages (from pandas) (2022.1)\n",
      "Requirement already satisfied: python-dateutil>=2.8.1 in c:\\users\\julih\\anaconda3\\lib\\site-packages (from pandas) (2.8.2)\n",
      "Requirement already satisfied: numpy>=1.18.5 in c:\\users\\julih\\anaconda3\\lib\\site-packages (from pandas) (1.21.5)\n",
      "Requirement already satisfied: six>=1.5 in c:\\users\\julih\\anaconda3\\lib\\site-packages (from python-dateutil>=2.8.1->pandas) (1.16.0)\n",
      "Note: you may need to restart the kernel to use updated packages.\n"
     ]
    }
   ],
   "source": [
    "# pip install pandas"
   ],
   "metadata": {
    "collapsed": false,
    "ExecuteTime": {
     "end_time": "2023-06-08T00:32:57.746880100Z",
     "start_time": "2023-06-08T00:32:51.608772900Z"
    }
   }
  },
  {
   "cell_type": "markdown",
   "source": [
    "\n",
    "Este comando solicita a pip que descargue e instale el paquete pandas desde el repositorio de paquetes de Python, PyPI.\n",
    "\n",
    "## Cómo importar Pandas\n",
    "\n",
    "Una vez que Pandas esté instalado, es necesario importarlo en tu script de Python para poder usarlo. Por convención, Pandas se importa con el alias `pd`, que permite un acceso más rápido a sus funciones y métodos.\n",
    "\n",
    "```python\n",
    "import pandas as pd\n",
    "```"
   ],
   "metadata": {
    "collapsed": false
   }
  },
  {
   "cell_type": "code",
   "execution_count": 5,
   "outputs": [],
   "source": [
    "import pandas as pd"
   ],
   "metadata": {
    "collapsed": false,
    "ExecuteTime": {
     "end_time": "2023-06-08T00:33:09.649677900Z",
     "start_time": "2023-06-08T00:33:09.605037500Z"
    }
   }
  },
  {
   "cell_type": "markdown",
   "source": [
    "\n",
    "## Creación de un DataFrame\n",
    "\n",
    "Pandas puede trabajar con datos de diversas fuentes y formatos como CSV, Excel, SQL, entre otros. Pero para simplificar, en este ejemplo crearemos un DataFrame, que es una estructura de datos bidimensional de Pandas similar a una hoja de cálculo, a partir de un diccionario de Python.\n",
    "\n",
    "```python\n",
    "data = {\n",
    "    'frutas': ['manzanas', 'naranjas', 'plátanos', 'kiwis'],\n",
    "    'cantidad': [10, 6, 3, 8]\n",
    "}\n",
    "df = pd.DataFrame(data)\n",
    "```"
   ],
   "metadata": {
    "collapsed": false
   }
  },
  {
   "cell_type": "code",
   "execution_count": 6,
   "outputs": [
    {
     "data": {
      "text/plain": "     frutas  cantidad\n0  manzanas        10\n1  naranjas         6\n2  plátanos         3\n3     kiwis         8",
      "text/html": "<div>\n<style scoped>\n    .dataframe tbody tr th:only-of-type {\n        vertical-align: middle;\n    }\n\n    .dataframe tbody tr th {\n        vertical-align: top;\n    }\n\n    .dataframe thead th {\n        text-align: right;\n    }\n</style>\n<table border=\"1\" class=\"dataframe\">\n  <thead>\n    <tr style=\"text-align: right;\">\n      <th></th>\n      <th>frutas</th>\n      <th>cantidad</th>\n    </tr>\n  </thead>\n  <tbody>\n    <tr>\n      <th>0</th>\n      <td>manzanas</td>\n      <td>10</td>\n    </tr>\n    <tr>\n      <th>1</th>\n      <td>naranjas</td>\n      <td>6</td>\n    </tr>\n    <tr>\n      <th>2</th>\n      <td>plátanos</td>\n      <td>3</td>\n    </tr>\n    <tr>\n      <th>3</th>\n      <td>kiwis</td>\n      <td>8</td>\n    </tr>\n  </tbody>\n</table>\n</div>"
     },
     "execution_count": 6,
     "metadata": {},
     "output_type": "execute_result"
    }
   ],
   "source": [
    "data = {\n",
    "    'frutas': ['manzanas', 'naranjas', 'plátanos', 'kiwis'],\n",
    "    'cantidad': [10, 6, 3, 8]\n",
    "}\n",
    "df = pd.DataFrame(data)\n",
    "\n",
    "df"
   ],
   "metadata": {
    "collapsed": false,
    "ExecuteTime": {
     "end_time": "2023-06-08T00:33:32.434953700Z",
     "start_time": "2023-06-08T00:33:32.410756200Z"
    }
   }
  },
  {
   "cell_type": "markdown",
   "source": [
    "\n",
    "Aquí, `data` es un diccionario que contiene dos listas, 'frutas' y 'cantidad', que actúan como columnas en nuestro DataFrame. El DataFrame resultante `df` tendrá estas columnas y filas que corresponden a los elementos de las listas.\n",
    "\n",
    "## Exploración y visualización de los datos\n",
    "\n",
    "Pandas ofrece múltiples formas de inspeccionar y entender nuestros datos. Veamos algunas de las más comunes.\n",
    "\n",
    "### head()\n",
    "\n",
    "El método `head()` nos permite obtener un vistazo rápido a los datos mostrando las primeras N filas de nuestro DataFrame. Por defecto, N es 5, pero puedes pasar un número entero para especificar la cantidad de filas que deseas ver.\n",
    "\n",
    "```python\n",
    "df.head()\n",
    "```"
   ],
   "metadata": {
    "collapsed": false
   }
  },
  {
   "cell_type": "code",
   "execution_count": 7,
   "outputs": [
    {
     "data": {
      "text/plain": "     frutas  cantidad\n0  manzanas        10\n1  naranjas         6\n2  plátanos         3\n3     kiwis         8",
      "text/html": "<div>\n<style scoped>\n    .dataframe tbody tr th:only-of-type {\n        vertical-align: middle;\n    }\n\n    .dataframe tbody tr th {\n        vertical-align: top;\n    }\n\n    .dataframe thead th {\n        text-align: right;\n    }\n</style>\n<table border=\"1\" class=\"dataframe\">\n  <thead>\n    <tr style=\"text-align: right;\">\n      <th></th>\n      <th>frutas</th>\n      <th>cantidad</th>\n    </tr>\n  </thead>\n  <tbody>\n    <tr>\n      <th>0</th>\n      <td>manzanas</td>\n      <td>10</td>\n    </tr>\n    <tr>\n      <th>1</th>\n      <td>naranjas</td>\n      <td>6</td>\n    </tr>\n    <tr>\n      <th>2</th>\n      <td>plátanos</td>\n      <td>3</td>\n    </tr>\n    <tr>\n      <th>3</th>\n      <td>kiwis</td>\n      <td>8</td>\n    </tr>\n  </tbody>\n</table>\n</div>"
     },
     "execution_count": 7,
     "metadata": {},
     "output_type": "execute_result"
    }
   ],
   "source": [
    "df.head()"
   ],
   "metadata": {
    "collapsed": false,
    "ExecuteTime": {
     "end_time": "2023-06-08T00:34:02.419358200Z",
     "start_time": "2023-06-08T00:34:02.364524700Z"
    }
   }
  },
  {
   "cell_type": "markdown",
   "source": [
    "### tail()\n",
    "\n",
    "De forma similar, el método `tail()` nos muestra las últimas N filas de nuestro DataFrame. Por defecto, N es 5, pero también se puede especificar una cantidad diferente.\n",
    "\n",
    "```python\n",
    "df.tail()\n",
    "```"
   ],
   "metadata": {
    "collapsed": false
   }
  },
  {
   "cell_type": "code",
   "execution_count": 8,
   "outputs": [
    {
     "data": {
      "text/plain": "     frutas  cantidad\n0  manzanas        10\n1  naranjas         6\n2  plátanos         3\n3     kiwis         8",
      "text/html": "<div>\n<style scoped>\n    .dataframe tbody tr th:only-of-type {\n        vertical-align: middle;\n    }\n\n    .dataframe tbody tr th {\n        vertical-align: top;\n    }\n\n    .dataframe thead th {\n        text-align: right;\n    }\n</style>\n<table border=\"1\" class=\"dataframe\">\n  <thead>\n    <tr style=\"text-align: right;\">\n      <th></th>\n      <th>frutas</th>\n      <th>cantidad</th>\n    </tr>\n  </thead>\n  <tbody>\n    <tr>\n      <th>0</th>\n      <td>manzanas</td>\n      <td>10</td>\n    </tr>\n    <tr>\n      <th>1</th>\n      <td>naranjas</td>\n      <td>6</td>\n    </tr>\n    <tr>\n      <th>2</th>\n      <td>plátanos</td>\n      <td>3</td>\n    </tr>\n    <tr>\n      <th>3</th>\n      <td>kiwis</td>\n      <td>8</td>\n    </tr>\n  </tbody>\n</table>\n</div>"
     },
     "execution_count": 8,
     "metadata": {},
     "output_type": "execute_result"
    }
   ],
   "source": [
    "df.tail()"
   ],
   "metadata": {
    "collapsed": false,
    "ExecuteTime": {
     "end_time": "2023-06-08T00:34:16.807892400Z",
     "start_time": "2023-06-08T00:34:16.670837900Z"
    }
   }
  },
  {
   "cell_type": "markdown",
   "source": [
    "\n",
    "### shape\n",
    "\n",
    "La propiedad `shape` es muy útil para obtener una idea rápida del tamaño de nuestros datos. Nos devuelve una tupla con la cantidad de filas y columnas de nuestro DataFrame.\n",
    "\n",
    "```python\n",
    "df.shape\n",
    "```"
   ],
   "metadata": {
    "collapsed": false
   }
  },
  {
   "cell_type": "code",
   "execution_count": 9,
   "outputs": [
    {
     "data": {
      "text/plain": "(4, 2)"
     },
     "execution_count": 9,
     "metadata": {},
     "output_type": "execute_result"
    }
   ],
   "source": [
    "df.shape"
   ],
   "metadata": {
    "collapsed": false,
    "ExecuteTime": {
     "end_time": "2023-06-08T00:34:31.335980200Z",
     "start_time": "2023-06-08T00:34:31.258817800Z"
    }
   }
  },
  {
   "cell_type": "markdown",
   "source": [
    "\n",
    "### columns\n",
    "\n",
    "La propiedad `columns` nos devuelve un objeto Index que contiene los nombres de las columnas del DataFrame.\n",
    "\n",
    "```python\n",
    "df.columns\n",
    "```"
   ],
   "metadata": {
    "collapsed": false
   }
  },
  {
   "cell_type": "code",
   "execution_count": 10,
   "outputs": [
    {
     "data": {
      "text/plain": "Index(['frutas', 'cantidad'], dtype='object')"
     },
     "execution_count": 10,
     "metadata": {},
     "output_type": "execute_result"
    }
   ],
   "source": [
    "df.columns"
   ],
   "metadata": {
    "collapsed": false,
    "ExecuteTime": {
     "end_time": "2023-06-08T00:34:43.797283Z",
     "start_time": "2023-06-08T00:34:43.775743500Z"
    }
   }
  },
  {
   "cell_type": "markdown",
   "source": [
    "\n",
    "### dtypes\n",
    "\n",
    "El método `dtypes` es esencial para entender el tipo de datos que tenemos en cada columna, nos devuelve una serie con el\n",
    "\n",
    " tipo de datos de cada columna.\n",
    "\n",
    "```python\n",
    "df.dtypes\n",
    "```"
   ],
   "metadata": {
    "collapsed": false
   }
  },
  {
   "cell_type": "code",
   "execution_count": 11,
   "outputs": [
    {
     "data": {
      "text/plain": "frutas      object\ncantidad     int64\ndtype: object"
     },
     "execution_count": 11,
     "metadata": {},
     "output_type": "execute_result"
    }
   ],
   "source": [
    "df.dtypes"
   ],
   "metadata": {
    "collapsed": false,
    "ExecuteTime": {
     "end_time": "2023-06-08T00:34:56.127006Z",
     "start_time": "2023-06-08T00:34:56.095750100Z"
    }
   }
  },
  {
   "cell_type": "markdown",
   "source": [
    "\n",
    "## Selección de datos\n",
    "\n",
    "Pandas nos ofrece una gran flexibilidad a la hora de seleccionar ciertos datos para nuestro análisis.\n",
    "\n",
    "### Selección de Columnas\n",
    "\n",
    "Podemos seleccionar una columna específica de un DataFrame utilizando su nombre. Por ejemplo, si queremos seleccionar solo la columna 'frutas', usaríamos el siguiente código:\n",
    "\n",
    "```python\n",
    "df['frutas']\n",
    "```"
   ],
   "metadata": {
    "collapsed": false
   }
  },
  {
   "cell_type": "code",
   "execution_count": 12,
   "outputs": [
    {
     "data": {
      "text/plain": "0    manzanas\n1    naranjas\n2    plátanos\n3       kiwis\nName: frutas, dtype: object"
     },
     "execution_count": 12,
     "metadata": {},
     "output_type": "execute_result"
    }
   ],
   "source": [
    "df['frutas']"
   ],
   "metadata": {
    "collapsed": false,
    "ExecuteTime": {
     "end_time": "2023-06-08T00:35:10.883008600Z",
     "start_time": "2023-06-08T00:35:10.842647300Z"
    }
   }
  },
  {
   "cell_type": "markdown",
   "source": [
    "\n",
    "### Selección de Filas\n",
    "\n",
    "Pandas también nos permite seleccionar filas específicas. Podemos hacerlo por índice o utilizando una condición.\n",
    "\n",
    "Seleccionar filas por índice:\n",
    "\n",
    "```python\n",
    "df[1:3]\n",
    "```"
   ],
   "metadata": {
    "collapsed": false
   }
  },
  {
   "cell_type": "code",
   "execution_count": 13,
   "outputs": [
    {
     "data": {
      "text/plain": "     frutas  cantidad\n1  naranjas         6\n2  plátanos         3",
      "text/html": "<div>\n<style scoped>\n    .dataframe tbody tr th:only-of-type {\n        vertical-align: middle;\n    }\n\n    .dataframe tbody tr th {\n        vertical-align: top;\n    }\n\n    .dataframe thead th {\n        text-align: right;\n    }\n</style>\n<table border=\"1\" class=\"dataframe\">\n  <thead>\n    <tr style=\"text-align: right;\">\n      <th></th>\n      <th>frutas</th>\n      <th>cantidad</th>\n    </tr>\n  </thead>\n  <tbody>\n    <tr>\n      <th>1</th>\n      <td>naranjas</td>\n      <td>6</td>\n    </tr>\n    <tr>\n      <th>2</th>\n      <td>plátanos</td>\n      <td>3</td>\n    </tr>\n  </tbody>\n</table>\n</div>"
     },
     "execution_count": 13,
     "metadata": {},
     "output_type": "execute_result"
    }
   ],
   "source": [
    "df[1:3]"
   ],
   "metadata": {
    "collapsed": false,
    "ExecuteTime": {
     "end_time": "2023-06-08T00:35:23.569598700Z",
     "start_time": "2023-06-08T00:35:23.490149100Z"
    }
   }
  },
  {
   "cell_type": "markdown",
   "source": [
    "\n",
    "Seleccionar filas que cumplan con cierta condición:\n",
    "\n",
    "```python\n",
    "df[df['cantidad'] > 5]\n",
    "```"
   ],
   "metadata": {
    "collapsed": false
   }
  },
  {
   "cell_type": "code",
   "execution_count": 14,
   "outputs": [
    {
     "data": {
      "text/plain": "     frutas  cantidad\n0  manzanas        10\n1  naranjas         6\n3     kiwis         8",
      "text/html": "<div>\n<style scoped>\n    .dataframe tbody tr th:only-of-type {\n        vertical-align: middle;\n    }\n\n    .dataframe tbody tr th {\n        vertical-align: top;\n    }\n\n    .dataframe thead th {\n        text-align: right;\n    }\n</style>\n<table border=\"1\" class=\"dataframe\">\n  <thead>\n    <tr style=\"text-align: right;\">\n      <th></th>\n      <th>frutas</th>\n      <th>cantidad</th>\n    </tr>\n  </thead>\n  <tbody>\n    <tr>\n      <th>0</th>\n      <td>manzanas</td>\n      <td>10</td>\n    </tr>\n    <tr>\n      <th>1</th>\n      <td>naranjas</td>\n      <td>6</td>\n    </tr>\n    <tr>\n      <th>3</th>\n      <td>kiwis</td>\n      <td>8</td>\n    </tr>\n  </tbody>\n</table>\n</div>"
     },
     "execution_count": 14,
     "metadata": {},
     "output_type": "execute_result"
    }
   ],
   "source": [
    "df[df['cantidad'] > 5]"
   ],
   "metadata": {
    "collapsed": false,
    "ExecuteTime": {
     "end_time": "2023-06-08T00:35:35.743674700Z",
     "start_time": "2023-06-08T00:35:35.711306100Z"
    }
   }
  },
  {
   "cell_type": "markdown",
   "source": [
    "\n",
    "## Resumen de los Datos\n",
    "\n",
    "Pandas tiene métodos incorporados que nos ayudan a obtener una comprensión general y estadísticas resumidas de nuestros datos.\n",
    "\n",
    "### describe()\n",
    "\n",
    "El método `describe()` proporciona un resumen estadístico de todas las columnas numéricas en el DataFrame. Incluye estadísticas como la media, el mínimo, el máximo, la desviación estándar y los percentiles.\n",
    "\n",
    "```python\n",
    "df.describe()\n",
    "```"
   ],
   "metadata": {
    "collapsed": false
   }
  },
  {
   "cell_type": "code",
   "execution_count": 15,
   "outputs": [
    {
     "data": {
      "text/plain": "        cantidad\ncount   4.000000\nmean    6.750000\nstd     2.986079\nmin     3.000000\n25%     5.250000\n50%     7.000000\n75%     8.500000\nmax    10.000000",
      "text/html": "<div>\n<style scoped>\n    .dataframe tbody tr th:only-of-type {\n        vertical-align: middle;\n    }\n\n    .dataframe tbody tr th {\n        vertical-align: top;\n    }\n\n    .dataframe thead th {\n        text-align: right;\n    }\n</style>\n<table border=\"1\" class=\"dataframe\">\n  <thead>\n    <tr style=\"text-align: right;\">\n      <th></th>\n      <th>cantidad</th>\n    </tr>\n  </thead>\n  <tbody>\n    <tr>\n      <th>count</th>\n      <td>4.000000</td>\n    </tr>\n    <tr>\n      <th>mean</th>\n      <td>6.750000</td>\n    </tr>\n    <tr>\n      <th>std</th>\n      <td>2.986079</td>\n    </tr>\n    <tr>\n      <th>min</th>\n      <td>3.000000</td>\n    </tr>\n    <tr>\n      <th>25%</th>\n      <td>5.250000</td>\n    </tr>\n    <tr>\n      <th>50%</th>\n      <td>7.000000</td>\n    </tr>\n    <tr>\n      <th>75%</th>\n      <td>8.500000</td>\n    </tr>\n    <tr>\n      <th>max</th>\n      <td>10.000000</td>\n    </tr>\n  </tbody>\n</table>\n</div>"
     },
     "execution_count": 15,
     "metadata": {},
     "output_type": "execute_result"
    }
   ],
   "source": [
    "df.describe()"
   ],
   "metadata": {
    "collapsed": false,
    "ExecuteTime": {
     "end_time": "2023-06-08T00:35:55.172737900Z",
     "start_time": "2023-06-08T00:35:55.129628100Z"
    }
   }
  },
  {
   "cell_type": "markdown",
   "source": [
    "\n",
    "### value_counts()\n",
    "\n",
    "El método `value_counts()` es útil para contar la frecuencia de los valores únicos en una columna. Esto es especialmente útil cuando se trabaja con datos categóricos.\n",
    "\n",
    "```python\n",
    "df['frutas'].value_counts()\n",
    "```"
   ],
   "metadata": {
    "collapsed": false
   }
  },
  {
   "cell_type": "code",
   "execution_count": 16,
   "outputs": [
    {
     "data": {
      "text/plain": "manzanas    1\nnaranjas    1\nplátanos    1\nkiwis       1\nName: frutas, dtype: int64"
     },
     "execution_count": 16,
     "metadata": {},
     "output_type": "execute_result"
    }
   ],
   "source": [
    "df['frutas'].value_counts()"
   ],
   "metadata": {
    "collapsed": false,
    "ExecuteTime": {
     "end_time": "2023-06-08T00:36:26.685188500Z",
     "start_time": "2023-06-08T00:36:26.600167600Z"
    }
   }
  },
  {
   "cell_type": "markdown",
   "source": [
    "## Manejo de Datos Faltantes\n",
    "\n",
    "En el mundo real, los conjuntos de datos suelen tener datos faltantes. Afortunadamente, Pandas ofrece una serie de potentes herramientas para tratar con estos casos.\n",
    "\n",
    "### isnull()\n",
    "\n",
    "El método `isnull()` retorna una DataFrame del mismo tamaño que el original pero donde los valores son True si el valor original es nulo y False si no lo es.\n",
    "\n",
    "```python\n",
    "df.isnull()\n",
    "```"
   ],
   "metadata": {
    "collapsed": false
   }
  },
  {
   "cell_type": "code",
   "execution_count": 17,
   "outputs": [
    {
     "data": {
      "text/plain": "   frutas  cantidad\n0   False     False\n1   False     False\n2   False     False\n3   False     False",
      "text/html": "<div>\n<style scoped>\n    .dataframe tbody tr th:only-of-type {\n        vertical-align: middle;\n    }\n\n    .dataframe tbody tr th {\n        vertical-align: top;\n    }\n\n    .dataframe thead th {\n        text-align: right;\n    }\n</style>\n<table border=\"1\" class=\"dataframe\">\n  <thead>\n    <tr style=\"text-align: right;\">\n      <th></th>\n      <th>frutas</th>\n      <th>cantidad</th>\n    </tr>\n  </thead>\n  <tbody>\n    <tr>\n      <th>0</th>\n      <td>False</td>\n      <td>False</td>\n    </tr>\n    <tr>\n      <th>1</th>\n      <td>False</td>\n      <td>False</td>\n    </tr>\n    <tr>\n      <th>2</th>\n      <td>False</td>\n      <td>False</td>\n    </tr>\n    <tr>\n      <th>3</th>\n      <td>False</td>\n      <td>False</td>\n    </tr>\n  </tbody>\n</table>\n</div>"
     },
     "execution_count": 17,
     "metadata": {},
     "output_type": "execute_result"
    }
   ],
   "source": [
    "df.isnull()"
   ],
   "metadata": {
    "collapsed": false,
    "ExecuteTime": {
     "end_time": "2023-06-08T00:36:50.122680Z",
     "start_time": "2023-06-08T00:36:50.071146500Z"
    }
   }
  },
  {
   "cell_type": "markdown",
   "source": [
    "\n",
    "### dropna()\n",
    "\n",
    "El método `dropna()` elimina las filas o columnas con valores nulos de un DataFrame.\n",
    "\n",
    "```python\n",
    "df.dropna()\n",
    "```"
   ],
   "metadata": {
    "collapsed": false
   }
  },
  {
   "cell_type": "code",
   "execution_count": 18,
   "outputs": [
    {
     "data": {
      "text/plain": "     frutas  cantidad\n0  manzanas        10\n1  naranjas         6\n2  plátanos         3\n3     kiwis         8",
      "text/html": "<div>\n<style scoped>\n    .dataframe tbody tr th:only-of-type {\n        vertical-align: middle;\n    }\n\n    .dataframe tbody tr th {\n        vertical-align: top;\n    }\n\n    .dataframe thead th {\n        text-align: right;\n    }\n</style>\n<table border=\"1\" class=\"dataframe\">\n  <thead>\n    <tr style=\"text-align: right;\">\n      <th></th>\n      <th>frutas</th>\n      <th>cantidad</th>\n    </tr>\n  </thead>\n  <tbody>\n    <tr>\n      <th>0</th>\n      <td>manzanas</td>\n      <td>10</td>\n    </tr>\n    <tr>\n      <th>1</th>\n      <td>naranjas</td>\n      <td>6</td>\n    </tr>\n    <tr>\n      <th>2</th>\n      <td>plátanos</td>\n      <td>3</td>\n    </tr>\n    <tr>\n      <th>3</th>\n      <td>kiwis</td>\n      <td>8</td>\n    </tr>\n  </tbody>\n</table>\n</div>"
     },
     "execution_count": 18,
     "metadata": {},
     "output_type": "execute_result"
    }
   ],
   "source": [
    "df.dropna()"
   ],
   "metadata": {
    "collapsed": false,
    "ExecuteTime": {
     "end_time": "2023-06-08T00:37:07.807676700Z",
     "start_time": "2023-06-08T00:37:07.754884300Z"
    }
   }
  },
  {
   "cell_type": "markdown",
   "source": [
    "\n",
    "### fillna()\n",
    "\n",
    "El método `fillna()` nos permite reemplazar los valores nulos con un valor especificado. Esto puede ser útil en muchos escenarios, por ejemplo, podría ser útil reemplazar los valores nulos con la media de la columna o con un valor constante.\n",
    "\n",
    "```python\n",
    "df.fillna(value)\n",
    "```"
   ],
   "metadata": {
    "collapsed": false
   }
  },
  {
   "cell_type": "code",
   "execution_count": 20,
   "outputs": [
    {
     "data": {
      "text/plain": "     frutas  cantidad\n0  manzanas        10\n1  naranjas         6\n2  plátanos         3\n3     kiwis         8",
      "text/html": "<div>\n<style scoped>\n    .dataframe tbody tr th:only-of-type {\n        vertical-align: middle;\n    }\n\n    .dataframe tbody tr th {\n        vertical-align: top;\n    }\n\n    .dataframe thead th {\n        text-align: right;\n    }\n</style>\n<table border=\"1\" class=\"dataframe\">\n  <thead>\n    <tr style=\"text-align: right;\">\n      <th></th>\n      <th>frutas</th>\n      <th>cantidad</th>\n    </tr>\n  </thead>\n  <tbody>\n    <tr>\n      <th>0</th>\n      <td>manzanas</td>\n      <td>10</td>\n    </tr>\n    <tr>\n      <th>1</th>\n      <td>naranjas</td>\n      <td>6</td>\n    </tr>\n    <tr>\n      <th>2</th>\n      <td>plátanos</td>\n      <td>3</td>\n    </tr>\n    <tr>\n      <th>3</th>\n      <td>kiwis</td>\n      <td>8</td>\n    </tr>\n  </tbody>\n</table>\n</div>"
     },
     "execution_count": 20,
     "metadata": {},
     "output_type": "execute_result"
    }
   ],
   "source": [
    "value = 0\n",
    "df.fillna(value)"
   ],
   "metadata": {
    "collapsed": false,
    "ExecuteTime": {
     "end_time": "2023-06-08T00:37:45.094032400Z",
     "start_time": "2023-06-08T00:37:45.051830Z"
    }
   }
  },
  {
   "cell_type": "markdown",
   "source": [
    "En resumen, esta es una introducción detallada pero no exhaustiva a la exploración de conjuntos de datos utilizando la biblioteca pandas de Python. Pandas es una herramienta poderosa con muchas más funciones y capacidades. Te animo a seguir explorando y aprendiendo más sobre esta excelente biblioteca."
   ],
   "metadata": {
    "collapsed": false
   }
  }
 ],
 "metadata": {
  "kernelspec": {
   "display_name": "Python 3",
   "language": "python",
   "name": "python3"
  },
  "language_info": {
   "codemirror_mode": {
    "name": "ipython",
    "version": 2
   },
   "file_extension": ".py",
   "mimetype": "text/x-python",
   "name": "python",
   "nbconvert_exporter": "python",
   "pygments_lexer": "ipython2",
   "version": "2.7.6"
  }
 },
 "nbformat": 4,
 "nbformat_minor": 0
}
