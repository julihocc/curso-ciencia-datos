{
 "cells": [
  {
   "cell_type": "markdown",
   "source": [
    "# Manipulación y análisis de DataFrames con Pandas\n",
    "\n",
    "Los DataFrames son una estructura de datos bidimensional en la biblioteca de Pandas, similar a una hoja de cálculo de Excel o una tabla SQL. Son extremadamente flexibles, ya que permiten almacenar y manipular datos de diferentes tipos (enteros, flotantes, strings, etc.) y también pueden cambiar de tamaño, lo que permite agregar y eliminar filas o columnas.\n",
    "\n",
    "## Configuración e instalación de Pandas y Seaborn\n",
    "\n",
    "Pandas es la principal biblioteca que usaremos para manipular nuestros DataFrames. Seaborn, por otro lado, es una biblioteca de visualización de datos basada en Matplotlib que proporciona una interfaz de alto nivel para crear gráficos estadísticos atractivos.\n",
    "\n",
    "Para instalar pandas y seaborn, debemos utilizar pip, el sistema de gestión de paquetes de Python. Puedes hacerlo ejecutando el siguiente comando en tu terminal o en la línea de comandos de tu entorno de desarrollo integrado (IDE):\n",
    "\n",
    "```python\n",
    "pip install pandas seaborn\n",
    "```\n",
    "\n",
    "## Importación de Pandas y Seaborn a tu script\n",
    "\n",
    "Una vez que se han instalado ambas bibliotecas, debemos importarlas en nuestro script de Python para poder utilizar sus funciones y métodos. Por convención, pandas se importa como 'pd' y seaborn como 'sns':\n",
    "\n",
    "```python\n",
    "import pandas as pd\n",
    "import seaborn as sns\n",
    "```"
   ],
   "metadata": {
    "collapsed": false
   }
  },
  {
   "cell_type": "code",
   "execution_count": 1,
   "outputs": [],
   "source": [
    "import pandas as pd\n",
    "import seaborn as sns"
   ],
   "metadata": {
    "collapsed": false,
    "ExecuteTime": {
     "end_time": "2023-06-09T00:44:30.187364400Z",
     "start_time": "2023-06-09T00:44:30.171688700Z"
    }
   }
  },
  {
   "cell_type": "markdown",
   "source": [
    "\n",
    "## Carga de un DataFrame predefinido\n",
    "\n",
    "Seaborn viene con algunos conjuntos de datos predefinidos para ayudar a los usuarios a practicar la manipulación de datos y la creación de gráficos. Uno de estos conjuntos de datos es 'iris', que contiene información sobre varias características de las flores de iris. Para cargar este conjunto de datos en un DataFrame de pandas, utilizamos el método `load_dataset()` de seaborn:\n",
    "\n",
    "```python\n",
    "df = sns.load_dataset('iris')\n",
    "```"
   ],
   "metadata": {
    "collapsed": false
   }
  },
  {
   "cell_type": "code",
   "execution_count": 2,
   "outputs": [],
   "source": [
    "df = sns.load_dataset('iris')"
   ],
   "metadata": {
    "collapsed": false,
    "ExecuteTime": {
     "end_time": "2023-06-09T00:44:31.439679800Z",
     "start_time": "2023-06-09T00:44:30.189365100Z"
    }
   }
  },
  {
   "cell_type": "markdown",
   "source": [
    "\n",
    "Para echar un vistazo rápido a las primeras líneas de nuestro DataFrame, utilizamos el método `head()`:\n",
    "\n",
    "```python\n",
    "df.head()\n",
    "```"
   ],
   "metadata": {
    "collapsed": false
   }
  },
  {
   "cell_type": "code",
   "execution_count": 3,
   "outputs": [
    {
     "data": {
      "text/plain": "   sepal_length  sepal_width  petal_length  petal_width species\n0           5.1          3.5           1.4          0.2  setosa\n1           4.9          3.0           1.4          0.2  setosa\n2           4.7          3.2           1.3          0.2  setosa\n3           4.6          3.1           1.5          0.2  setosa\n4           5.0          3.6           1.4          0.2  setosa",
      "text/html": "<div>\n<style scoped>\n    .dataframe tbody tr th:only-of-type {\n        vertical-align: middle;\n    }\n\n    .dataframe tbody tr th {\n        vertical-align: top;\n    }\n\n    .dataframe thead th {\n        text-align: right;\n    }\n</style>\n<table border=\"1\" class=\"dataframe\">\n  <thead>\n    <tr style=\"text-align: right;\">\n      <th></th>\n      <th>sepal_length</th>\n      <th>sepal_width</th>\n      <th>petal_length</th>\n      <th>petal_width</th>\n      <th>species</th>\n    </tr>\n  </thead>\n  <tbody>\n    <tr>\n      <th>0</th>\n      <td>5.1</td>\n      <td>3.5</td>\n      <td>1.4</td>\n      <td>0.2</td>\n      <td>setosa</td>\n    </tr>\n    <tr>\n      <th>1</th>\n      <td>4.9</td>\n      <td>3.0</td>\n      <td>1.4</td>\n      <td>0.2</td>\n      <td>setosa</td>\n    </tr>\n    <tr>\n      <th>2</th>\n      <td>4.7</td>\n      <td>3.2</td>\n      <td>1.3</td>\n      <td>0.2</td>\n      <td>setosa</td>\n    </tr>\n    <tr>\n      <th>3</th>\n      <td>4.6</td>\n      <td>3.1</td>\n      <td>1.5</td>\n      <td>0.2</td>\n      <td>setosa</td>\n    </tr>\n    <tr>\n      <th>4</th>\n      <td>5.0</td>\n      <td>3.6</td>\n      <td>1.4</td>\n      <td>0.2</td>\n      <td>setosa</td>\n    </tr>\n  </tbody>\n</table>\n</div>"
     },
     "execution_count": 3,
     "metadata": {},
     "output_type": "execute_result"
    }
   ],
   "source": [
    "df.head()"
   ],
   "metadata": {
    "collapsed": false,
    "ExecuteTime": {
     "end_time": "2023-06-09T00:44:34.308764600Z",
     "start_time": "2023-06-09T00:44:34.228930100Z"
    }
   }
  },
  {
   "cell_type": "markdown",
   "source": [
    "\n",
    "\n",
    "## Inspección de DataFrames\n",
    "\n",
    "Es crucial familiarizarse con nuestros datos antes de comenzar a manipularlos o analizarlos. Pandas proporciona varias formas de inspeccionar un DataFrame.\n",
    "\n",
    "### Forma de un DataFrame\n",
    "\n",
    "La propiedad `shape` nos da una tupla que representa la cantidad de filas y columnas en el DataFrame:\n",
    "\n",
    "```python\n",
    "df.shape\n",
    "```\n",
    "\n",
    "### Nombres de las columnas\n",
    "\n",
    "La propiedad `columns` nos proporciona una lista con los nombres de todas las columnas en el DataFrame:\n",
    "\n",
    "```python\n",
    "df.columns\n",
    "```\n",
    "\n",
    "### Tipos de datos\n",
    "\n",
    "La propiedad `dtypes` nos muestra el tipo de datos almacenados en cada columna:\n",
    "\n",
    "```python\n",
    "df.dtypes\n",
    "```\n",
    "\n",
    "### Resumen estadístico\n",
    "\n",
    "El método `describe()` nos proporciona un resumen estadístico del DataFrame, que incluye la media, la desviación estándar, los valores mínimos y máximos, y los percentiles de cada columna numérica:\n",
    "\n",
    "```python\n",
    "df.describe()\n",
    "```\n",
    "\n",
    "## Selección de datos\n",
    "\n",
    "Pandas ofrece varias formas de seleccionar datos específicos dentro de un DataFrame.\n",
    "\n",
    "### Selección de columnas\n",
    "\n",
    "Podemos seleccionar una columna específica utilizando su nombre:\n",
    "\n",
    "```python\n",
    "df['species']\n",
    "```\n",
    "\n",
    "### Selección de filas\n",
    "\n",
    "También podemos seleccionar un rango de filas utilizando índices de inicio y fin:\n",
    "\n",
    "```python\n",
    "df[10:\n",
    "\n",
    "20]\n",
    "```\n",
    "\n",
    "O podemos seleccionar filas que cumplan con una condición específica:\n",
    "\n",
    "```python\n",
    "df[df['sepal_length'] > 5.0]\n",
    "```\n",
    "\n",
    "## Modificación de DataFrames\n",
    "\n",
    "Los DataFrames de pandas son mutables, lo que significa que podemos modificarlos agregando nuevas columnas o cambiando los valores existentes.\n",
    "\n",
    "Por ejemplo, podemos agregar una nueva columna que contenga el doble de la longitud del sépalo:\n",
    "\n",
    "```python\n",
    "df['double_sepal_length'] = df['sepal_length'] * 2\n",
    "```\n",
    "\n",
    "También podemos cambiar los valores en una columna que cumplan con una cierta condición. En este caso, vamos a cambiar todas las instancias de 'setosa' en la columna 'species' por 'SETOSA':\n",
    "\n",
    "```python\n",
    "df.loc[df['species'] == 'setosa', 'species'] = 'SETOSA'\n",
    "```\n",
    "\n",
    "## Ejemplo Práctico\n",
    "\n",
    "Para ilustrar algunas de estas operaciones, vamos a agregar una columna a nuestro DataFrame que indique si la longitud del sépalo de cada flor es superior a la media de todas las longitudes del sépalo:\n",
    "\n",
    "```python\n",
    "df['sepal_length_above_average'] = df['sepal_length'] > df['sepal_length'].mean()\n",
    "```\n",
    "\n",
    "Esto es solo una breve introducción a cómo trabajar con DataFrames en pandas. Recuerda que esta biblioteca es extremadamente poderosa y versátil, y ofrece muchas más funcionalidades que las que hemos cubierto aquí. Te animo a que sigas explorando y practicando para convertirte en un experto en la manipulación de datos con pandas. ¡Buena suerte!\n"
   ],
   "metadata": {
    "collapsed": false
   }
  },
  {
   "cell_type": "markdown",
   "source": [],
   "metadata": {
    "collapsed": false
   }
  }
 ],
 "metadata": {
  "kernelspec": {
   "display_name": "Python 3",
   "language": "python",
   "name": "python3"
  },
  "language_info": {
   "codemirror_mode": {
    "name": "ipython",
    "version": 2
   },
   "file_extension": ".py",
   "mimetype": "text/x-python",
   "name": "python",
   "nbconvert_exporter": "python",
   "pygments_lexer": "ipython2",
   "version": "2.7.6"
  }
 },
 "nbformat": 4,
 "nbformat_minor": 0
}
